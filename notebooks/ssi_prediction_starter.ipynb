{
 "cells": [
  {
   "cell_type": "markdown",
   "metadata": {},
   "source": [
    "# Surgical Site Infection (SSI) Prediction\n",
    "\n",
    "This is a starter notebook for building and testing baseline models to predict surgical site infection (SSI).\n",
    "\n",
    "Use this as your foundation for exploratory data analysis, model training, and interpretability.\n",
    "\n",
    "---"
   ]
  },
  {
   "cell_type": "code",
   "metadata": {},
   "source": [
    "# Install dependencies (if needed)\n",
    "# !pip install pandas numpy scikit-learn matplotlib xgboost shap"
   ]
  },
  {
   "cell_type": "code",
   "metadata": {},
   "source": [
    "import pandas as pd, numpy as np, matplotlib.pyplot as plt\n",
    "from sklearn.model_selection import train_test_split\n",
    "from sklearn.linear_model import LogisticRegression\n",
    "\n",
    "# Synthetic demo dataset\n",
    "np.random.seed(42)\n",
    "n = 300\n",
    "df = pd.DataFrame({\n",
    "    'age': np.random.randint(20, 80, n),\n",
    "    'bmi': np.random.normal(27, 5, n).round(1),\n",
    "    'op_time': np.random.normal(120, 40, n).clip(20, 300),\n",
    "    'diabetes': np.random.choice([0,1], size=n, p=[0.75, 0.25])\n",
    "})\n",
    "df['ssi'] = (0.02*df['age'] + 0.1*(df['bmi']>30) + 0.05*df['diabetes'] + np.random.normal(0, 0.05, n) > 0.15).astype(int)\n",
    "df.head()"
   ]
  },
  {
   "cell_type": "code",
   "metadata": {},
   "source": [
    "# Train/test split and simple logistic model\n",
    "X = df[['age', 'bmi', 'op_time', 'diabetes']]\n",
    "y = df['ssi']\n",
    "X_train, X_test, y_train, y_test = train_test_split(X, y, test_size=0.2, random_state=42)\n",
    "\n",
    "model = LogisticRegression(max_iter=300)\n",
    "model.fit(X_train, y_train)\n",
    "print('Training complete. Test accuracy:', model.score(X_test, y_test))"
   ]
  }
 ],
 "metadata": {
  "kernelspec": {
   "display_name": "Python 3",
   "language": "python",
   "name": "python3"
  },
  "language_info": {
   "name": "python"
  }
 },
 "nbformat": 4,
 "nbformat_minor": 2
}
